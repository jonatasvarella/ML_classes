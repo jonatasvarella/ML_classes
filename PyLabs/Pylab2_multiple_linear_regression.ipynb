{
  "nbformat": 4,
  "nbformat_minor": 0,
  "metadata": {
    "colab": {
      "name": "lab2_multiple_linear_regression.ipynb",
      "version": "0.3.2",
      "provenance": [],
      "collapsed_sections": []
    },
    "kernelspec": {
      "name": "python3",
      "display_name": "Python 3"
    }
  },
  "cells": [
    {
      "metadata": {
        "id": "7FAo7i3vWH6e",
        "colab_type": "text"
      },
      "cell_type": "markdown",
      "source": [
        "# Lab 2\n",
        "\n",
        "## Regressão Linear Múltipla\n",
        "\n",
        "Vamos comparar os resultados de 3 regressões simples estimadas com os dados do banco *Advertisement*, uma para cada preditor e de uma regressão múltipla com os 3 preditores sendo controlados ao mesmo tempo."
      ]
    },
    {
      "metadata": {
        "id": "2lKNnINUWX2S",
        "colab_type": "code",
        "colab": {}
      },
      "cell_type": "code",
      "source": [
        "import pandas as pd\n",
        "import statsmodels.formula.api as sms\n",
        "import matplotlib.pyplot as plt\n",
        "import numpy as np\n",
        "%matplotlib inline"
      ],
      "execution_count": 0,
      "outputs": []
    },
    {
      "metadata": {
        "id": "K1aj9o_OWbti",
        "colab_type": "code",
        "colab": {}
      },
      "cell_type": "code",
      "source": [
        "# Lendo os dados da web\n",
        "adv = pd.read_csv(\"http://www-bcf.usc.edu/~gareth/ISL/Advertising.csv\")\n",
        "adv = adv.drop(columns=[\"Unnamed: 0\"], axis=1)  # Dropa a primeira coluna\n",
        "adv.head()"
      ],
      "execution_count": 0,
      "outputs": []
    },
    {
      "metadata": {
        "id": "I3ZhaqtWXU1s",
        "colab_type": "text"
      },
      "cell_type": "markdown",
      "source": [
        "### 3 Regressões Simples"
      ]
    },
    {
      "metadata": {
        "id": "xUgoEdzLWePW",
        "colab_type": "code",
        "colab": {}
      },
      "cell_type": "code",
      "source": [
        "model_tv = sms.ols(formula=\"sales ~ TV\", data=adv).fit()\n",
        "print(model_tv.summary())"
      ],
      "execution_count": 0,
      "outputs": []
    },
    {
      "metadata": {
        "id": "tsD6VFOsW_Tj",
        "colab_type": "code",
        "colab": {}
      },
      "cell_type": "code",
      "source": [
        "model_radio = sms.ols(formula=\"sales ~ radio\", data=adv).fit()\n",
        "print(model_radio.summary())"
      ],
      "execution_count": 0,
      "outputs": []
    },
    {
      "metadata": {
        "id": "HJvB2zMWW9Xh",
        "colab_type": "code",
        "colab": {}
      },
      "cell_type": "code",
      "source": [
        "model_news = sms.ols(formula=\"sales ~ newspaper\", data=adv).fit()\n",
        "print(model_news.summary())"
      ],
      "execution_count": 0,
      "outputs": []
    },
    {
      "metadata": {
        "id": "KEiV83EGXMlD",
        "colab_type": "text"
      },
      "cell_type": "markdown",
      "source": [
        "### Adicionando os 3 preditores"
      ]
    },
    {
      "metadata": {
        "id": "F88MuNODXLGY",
        "colab_type": "code",
        "colab": {}
      },
      "cell_type": "code",
      "source": [
        "# Vamos exibir os 3 parâmetros juntos só para facilitar a comparação\n",
        "print(\"Modelo TV:\\t\" + str(model_tv.params[1]))\n",
        "print(\"Modelo rádio:\\t\" + str(model_radio.params[1]))\n",
        "print(\"Modelo News:\\t\" + str(model_news.params[1]))"
      ],
      "execution_count": 0,
      "outputs": []
    },
    {
      "metadata": {
        "id": "uj2VyNBEXspm",
        "colab_type": "code",
        "colab": {}
      },
      "cell_type": "code",
      "source": [
        "# Agora, estimando com os 3 preditores ao mesmo tempo\n",
        "model_complete  = sms.ols(formula=\"sales ~ TV + radio + newspaper\",\n",
        "                         data=adv).fit()\n",
        "print(model_complete.summary())"
      ],
      "execution_count": 0,
      "outputs": []
    },
    {
      "metadata": {
        "id": "Ja-epIvaX9fH",
        "colab_type": "code",
        "colab": {}
      },
      "cell_type": "code",
      "source": [
        "# Verificando os resultados das 3 regressões numa só tabela\n",
        "from statsmodels.iolib.summary2 import summary_col"
      ],
      "execution_count": 0,
      "outputs": []
    },
    {
      "metadata": {
        "id": "VBS95IdhYHU1",
        "colab_type": "code",
        "colab": {}
      },
      "cell_type": "code",
      "source": [
        "summarytable = summary_col([model_tv, model_news, model_radio, model_complete], stars=True)\n",
        "print(summarytable)"
      ],
      "execution_count": 0,
      "outputs": []
    },
    {
      "metadata": {
        "id": "7ZaxtUpiYUMC",
        "colab_type": "text"
      },
      "cell_type": "markdown",
      "source": [
        "Perceba que o efeito da variável `newspaper` **desaparece**.  Isso acontece porque quando estimamos o efeito de newspaper controlando pelas outras variáveis, percebemos que o efeito de newspaper na verdade era relacionado à variável rádio devido ao fato das duas possuírem correlação. O efeito de newspaper estimado na regressão simples era, portanto, **efeito espúrio**. \n",
        "\n",
        "Vamos verificar a matriz de correlação dessas variáveis:"
      ]
    },
    {
      "metadata": {
        "id": "I6MDgsQKYEC0",
        "colab_type": "code",
        "colab": {}
      },
      "cell_type": "code",
      "source": [
        "adv[[\"TV\", \"radio\", \"newspaper\"]].corr()"
      ],
      "execution_count": 0,
      "outputs": []
    },
    {
      "metadata": {
        "id": "wWnWoZnMtn7Z",
        "colab_type": "text"
      },
      "cell_type": "markdown",
      "source": [
        "Perceba que, enquanto os pares TV-Radio e TV-Newspaper tem uma correlação baixa, o par Radio-Newpaper tem uma correlação razoável (0,35).\n",
        "\n",
        "Vamos também observar os intervalos de confiança dos estimadores:"
      ]
    },
    {
      "metadata": {
        "id": "xZ59MYKQtu6Z",
        "colab_type": "code",
        "colab": {}
      },
      "cell_type": "code",
      "source": [
        "model_complete.conf_int()"
      ],
      "execution_count": 0,
      "outputs": []
    },
    {
      "metadata": {
        "id": "XY7kFY1IaFnq",
        "colab_type": "text"
      },
      "cell_type": "markdown",
      "source": [
        "Agora, vamos usar nosso modelo para fazer predições."
      ]
    },
    {
      "metadata": {
        "id": "-rkd8RxgaSca",
        "colab_type": "code",
        "colab": {}
      },
      "cell_type": "code",
      "source": [
        "yhat = model_complete.get_prediction()\n",
        "print(\"Predictions:\")\n",
        "print(yhat.predicted_mean)"
      ],
      "execution_count": 0,
      "outputs": []
    },
    {
      "metadata": {
        "id": "EIlos4fVdXsS",
        "colab_type": "code",
        "colab": {}
      },
      "cell_type": "code",
      "source": [
        "print(\"Confidence Intervals:\")\n",
        "print(yhat.conf_int())"
      ],
      "execution_count": 0,
      "outputs": []
    },
    {
      "metadata": {
        "id": "ah56j4wmdoUR",
        "colab_type": "text"
      },
      "cell_type": "markdown",
      "source": [
        "# Exercício 1\n",
        "\n",
        "### 1\n",
        "\n",
        "Abra o banco de dados `Boston` e estime 3 regressões:\n",
        "\n",
        "- A primeira prevendo `medv` usando como preditor `lstat`;\n",
        "- A segunda prevendo `medv` usando como preditor `age`;\n",
        "- A terceira usando ambos os preditores.\n",
        "\n",
        "O que podemos dizer sobre o comportamento dos coeficientes estimados? E sobre o ajuste dos modelos?\n",
        "\n",
        "### 2\n",
        "\n",
        "Estime uma regressão usando todas as variáveis como preditoras. Todas são úteis para prever `medv`? Quais você deixaria e quais tiraria? Por quê?\n",
        "\n",
        "Como foi o ajuste desse modelo?\n",
        "\n",
        "Agora tire as variáveis que você considerou que não ajudam a estimação de `medv`. O que aconteceu com o ajuste do modelo?"
      ]
    },
    {
      "metadata": {
        "id": "DQwg9E-PeeSx",
        "colab_type": "code",
        "colab": {}
      },
      "cell_type": "code",
      "source": [
        "# Lendo os dados\n",
        "boston = pd.DataFrame.from_csv(\"https://raw.githubusercontent.com/selva86/datasets/master/BostonHousing.csv\")\n",
        "boston.head()"
      ],
      "execution_count": 0,
      "outputs": []
    },
    {
      "metadata": {
        "id": "hr__G1Tsqv-9",
        "colab_type": "text"
      },
      "cell_type": "markdown",
      "source": [
        "# Exercício 2\n",
        "\n",
        "Vamos fazer algumas investigações no banco *credit*. Aí estão dados de cartão de crédito com as seguintes variáveis:\n",
        "\n",
        "- **Income** - renda em milhares de dólares;\n",
        "- **Limit** - limite de crédito;\n",
        "- **Rating** - o *score* de crédito;\n",
        "- **Card** - número de cartões de crédito que a pessoa possui;\n",
        "- **Age** - idade;\n",
        "- **Education** - anos de escolaridade;\n",
        "- **Gender** - sexo;\n",
        "- **Student** - se é estudante;\n",
        "- **Married** - se é casado;\n",
        "- **Ethnicity** - etnia e\n",
        "- **Balance** - dívida média de cartão de crédito.\n",
        "\n",
        "## 1\n",
        "\n",
        "Estude a diferença entre o **balance** entre homens e mulheres usando um modelo de regressão. Interprete os resultados.\n",
        "\n",
        "## 2\n",
        "Estude a diferença entre o **balance** entre pessoas de diferentes etnias usando um modelo de regressão. Interprete os resultados.\n",
        "\n",
        "## 3\n",
        "\n",
        "Estime agora um modelo de regressão utilizando todas as variáveis presentes. O que podemos dizer sobre os resultados? Todas as variáveis ajudam a explicar o *balance*? Quais variáveis você tiraria? Como ficaria seu novo modelo?\n",
        "\n",
        "## 4\n",
        "\n",
        "Estime o seu novo modelo. Interprete os resultados. O que podemos dizer sobre o ajuste do novo modelo em relação ao primeiro?"
      ]
    },
    {
      "metadata": {
        "id": "UNiiaW97tLp7",
        "colab_type": "code",
        "colab": {}
      },
      "cell_type": "code",
      "source": [
        "# Lê os dados\n",
        "credit = pd.read_csv(\"http://www-bcf.usc.edu/~gareth/ISL/Credit.csv\")\n",
        "# Tira a primeira coluna\n",
        "print(credit.columns)\n",
        "credit = credit.drop(columns=['Unnamed: 0'])\n",
        "# Após retirar coluna com índices...\n",
        "print(credit.columns)"
      ],
      "execution_count": 0,
      "outputs": []
    },
    {
      "metadata": {
        "id": "3g7cAc4etzaY",
        "colab_type": "code",
        "colab": {}
      },
      "cell_type": "code",
      "source": [
        "credit.head()"
      ],
      "execution_count": 0,
      "outputs": []
    },
    {
      "metadata": {
        "colab_type": "code",
        "id": "kx5-pZVNClJu",
        "colab": {}
      },
      "cell_type": "code",
      "source": [
        "model_fit = sms.ols(formula=\"Balance~Age+Rating+Limit\", data=credit).fit()\n",
        "print(model_fit.summary())"
      ],
      "execution_count": 0,
      "outputs": []
    },
    {
      "metadata": {
        "id": "RwU6HKmkCuw8",
        "colab_type": "text"
      },
      "cell_type": "markdown",
      "source": [
        "Verifica multicolinearidade com o *Variance Inflation Factor*."
      ]
    },
    {
      "metadata": {
        "id": "ds_OoNyPkhtM",
        "colab_type": "code",
        "colab": {}
      },
      "cell_type": "code",
      "source": [
        "from statsmodels.stats.outliers_influence import variance_inflation_factor\n",
        "from statsmodels.tools.tools import add_constant"
      ],
      "execution_count": 0,
      "outputs": []
    },
    {
      "metadata": {
        "id": "NANiN-2ElL1Y",
        "colab_type": "code",
        "colab": {}
      },
      "cell_type": "code",
      "source": [
        "#intercept = pd.DataFrame({\"Intercept\": [1] * credit.shape[0]})\n",
        "new = credit[[\"Age\", \"Rating\", \"Limit\"]]\n",
        "new = add_constant(new)\n",
        "colunas = new.columns\n",
        "new = np.array(new)"
      ],
      "execution_count": 0,
      "outputs": []
    },
    {
      "metadata": {
        "id": "tPwkrMwIQM53",
        "colab_type": "code",
        "colab": {}
      },
      "cell_type": "code",
      "source": [
        "vif = [variance_inflation_factor(new, i) for i in range(new.shape[1])]\n",
        "res = zip(colunas, vif)\n",
        "print(set(res))"
      ],
      "execution_count": 0,
      "outputs": []
    },
    {
      "metadata": {
        "id": "mjCbA2qw_EY1",
        "colab_type": "text"
      },
      "cell_type": "markdown",
      "source": [
        "## Extra\n",
        "\n",
        "Replicando os gráficos de avaliação de resíduos do R"
      ]
    },
    {
      "metadata": {
        "id": "-hRaAtWb_Iix",
        "colab_type": "code",
        "colab": {}
      },
      "cell_type": "code",
      "source": [
        "# Extraindo vetores necessários\n",
        "\n",
        "# fitted values (need a constant term for intercept)\n",
        "model_fitted_y = model_fit.fittedvalues\n",
        "\n",
        "# model residuals\n",
        "model_residuals = model_fit.resid\n",
        "\n",
        "# normalized residuals\n",
        "model_norm_residuals = model_fit.get_influence().resid_studentized_internal\n",
        "\n",
        "# absolute squared normalized residuals\n",
        "model_norm_residuals_abs_sqrt = np.sqrt(np.abs(model_norm_residuals))\n",
        "\n",
        "# absolute residuals\n",
        "model_abs_resid = np.abs(model_residuals)\n",
        "\n",
        "# leverage, from statsmodels internals\n",
        "model_leverage = model_fit.get_influence().hat_matrix_diag\n",
        "\n",
        "# cook's distance, from statsmodels internals\n",
        "model_cooks = model_fit.get_influence().cooks_distance[0]"
      ],
      "execution_count": 0,
      "outputs": []
    },
    {
      "metadata": {
        "id": "RUhP9XyK_y07",
        "colab_type": "code",
        "colab": {}
      },
      "cell_type": "code",
      "source": [
        "import seaborn as sns\n",
        "from statsmodels.graphics.gofplots import ProbPlot"
      ],
      "execution_count": 0,
      "outputs": []
    },
    {
      "metadata": {
        "id": "XpnfY38eAKnH",
        "colab_type": "code",
        "colab": {}
      },
      "cell_type": "code",
      "source": [
        "plot_lm_1 = plt.figure(1)\n",
        "plot_lm_1.set_figheight(8)\n",
        "plot_lm_1.set_figwidth(12)\n",
        "\n",
        "plot_lm_1.axes[0] = sns.residplot(model_fitted_y, 'Balance', data=credit, \n",
        "                          lowess=True, \n",
        "                          scatter_kws={'alpha': 0.5}, \n",
        "                          line_kws={'color': 'red', 'lw': 1, 'alpha': 0.8})\n",
        "\n",
        "plot_lm_1.axes[0].set_title('Residuals vs Fitted')\n",
        "plot_lm_1.axes[0].set_xlabel('Fitted values')\n",
        "plot_lm_1.axes[0].set_ylabel('Residuals')\n",
        "\n",
        "# annotations\n",
        "abs_resid = model_abs_resid.sort_values(ascending=False)\n",
        "abs_resid_top_3 = abs_resid[:3]\n",
        "\n",
        "for i in abs_resid_top_3.index:\n",
        "    plot_lm_1.axes[0].annotate(i, \n",
        "                               xy=(model_fitted_y[i], \n",
        "                                   model_residuals[i]));"
      ],
      "execution_count": 0,
      "outputs": []
    },
    {
      "metadata": {
        "id": "6zlMegj2AUqg",
        "colab_type": "code",
        "colab": {}
      },
      "cell_type": "code",
      "source": [
        "QQ = ProbPlot(model_norm_residuals)\n",
        "plot_lm_2 = QQ.qqplot(line='45', alpha=0.5, color='#4C72B0', lw=1)\n",
        "\n",
        "plot_lm_2.set_figheight(8)\n",
        "plot_lm_2.set_figwidth(12)\n",
        "\n",
        "plot_lm_2.axes[0].set_title('Normal Q-Q')\n",
        "plot_lm_2.axes[0].set_xlabel('Theoretical Quantiles')\n",
        "plot_lm_2.axes[0].set_ylabel('Standardized Residuals');\n",
        "\n",
        "# annotations\n",
        "abs_norm_resid = np.flip(np.argsort(np.abs(model_norm_residuals)), 0)\n",
        "abs_norm_resid_top_3 = abs_norm_resid[:3]\n",
        "\n",
        "for r, i in enumerate(abs_norm_resid_top_3):\n",
        "    plot_lm_2.axes[0].annotate(i, \n",
        "                               xy=(np.flip(QQ.theoretical_quantiles, 0)[r],\n",
        "                                  model_norm_residuals[i]));\n",
        "plot_lm_2.show()"
      ],
      "execution_count": 0,
      "outputs": []
    },
    {
      "metadata": {
        "colab_type": "code",
        "id": "lcb48kMiCoEW",
        "colab": {}
      },
      "cell_type": "code",
      "source": [
        "plot_lm_3 = plt.figure(3)\n",
        "plot_lm_3.set_figheight(8)\n",
        "plot_lm_3.set_figwidth(12)\n",
        "\n",
        "plt.scatter(model_fitted_y, model_norm_residuals_abs_sqrt, alpha=0.5)\n",
        "sns.regplot(model_fitted_y, model_norm_residuals_abs_sqrt, \n",
        "            scatter=False, \n",
        "            ci=False, \n",
        "            lowess=True,\n",
        "            line_kws={'color': 'red', 'lw': 1, 'alpha': 0.8})\n",
        "\n",
        "plot_lm_3.axes[0].set_title('Scale-Location')\n",
        "plot_lm_3.axes[0].set_xlabel('Fitted values')\n",
        "plot_lm_3.axes[0].set_ylabel('$\\sqrt{|Standardized Residuals|}$');\n",
        "\n",
        "# annotations\n",
        "abs_sq_norm_resid = np.flip(np.argsort(model_norm_residuals_abs_sqrt), 0)\n",
        "abs_sq_norm_resid_top_3 = abs_sq_norm_resid[:3]\n",
        "\n",
        "for i in abs_norm_resid_top_3:\n",
        "    plot_lm_3.axes[0].annotate(i, \n",
        "                               xy=(model_fitted_y[i], \n",
        "model_norm_residuals_abs_sqrt[i]));"
      ],
      "execution_count": 0,
      "outputs": []
    }
  ]
}
