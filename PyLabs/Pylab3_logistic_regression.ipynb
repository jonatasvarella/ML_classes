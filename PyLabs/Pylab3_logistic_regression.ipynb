{
  "nbformat": 4,
  "nbformat_minor": 0,
  "metadata": {
    "colab": {
      "name": "Pylab3_logistic_regression.ipynb",
      "version": "0.3.2",
      "provenance": [],
      "collapsed_sections": []
    },
    "kernelspec": {
      "name": "python3",
      "display_name": "Python 3"
    }
  },
  "cells": [
    {
      "metadata": {
        "id": "zI6kHTJ90S0K",
        "colab_type": "text"
      },
      "cell_type": "markdown",
      "source": [
        "# Machine Learning\n",
        "\n",
        "## Lab 3 - Logistic Regression\n",
        "\n",
        "### Prof. Neylson Crepalde"
      ]
    },
    {
      "metadata": {
        "id": "AOPgHjJx0CA3",
        "colab_type": "code",
        "colab": {}
      },
      "cell_type": "code",
      "source": [
        "import pandas as pd\n",
        "import numpy as np\n",
        "import matplotlib.pyplot as plt\n",
        "import seaborn as sns\n",
        "%matplotlib inline\n",
        "\n",
        "# Módulo da regressão Logística de StatsModels\n",
        "from statsmodels.discrete.discrete_model import Logit\n",
        "\n",
        "# Módulos da regressão logística do sklearn\n",
        "from sklearn.linear_model import LogisticRegression\n",
        "from sklearn.model_selection import train_test_split\n",
        "from sklearn.metrics import roc_auc_score"
      ],
      "execution_count": 0,
      "outputs": []
    },
    {
      "metadata": {
        "id": "oeIyF8J_ID_h",
        "colab_type": "code",
        "outputId": "741b44e9-d83b-452d-990b-7971a767dbfd",
        "colab": {
          "base_uri": "https://localhost:8080/",
          "height": 206
        }
      },
      "cell_type": "code",
      "source": [
        "# Importando os dados do banco Default\n",
        "bd = pd.read_csv(\"https://raw.githubusercontent.com/neylsoncrepalde/ML_classes/master/Default.csv\")\n",
        "bd.head()"
      ],
      "execution_count": 106,
      "outputs": [
        {
          "output_type": "execute_result",
          "data": {
            "text/html": [
              "<div>\n",
              "<style scoped>\n",
              "    .dataframe tbody tr th:only-of-type {\n",
              "        vertical-align: middle;\n",
              "    }\n",
              "\n",
              "    .dataframe tbody tr th {\n",
              "        vertical-align: top;\n",
              "    }\n",
              "\n",
              "    .dataframe thead th {\n",
              "        text-align: right;\n",
              "    }\n",
              "</style>\n",
              "<table border=\"1\" class=\"dataframe\">\n",
              "  <thead>\n",
              "    <tr style=\"text-align: right;\">\n",
              "      <th></th>\n",
              "      <th>default</th>\n",
              "      <th>student</th>\n",
              "      <th>balance</th>\n",
              "      <th>income</th>\n",
              "    </tr>\n",
              "  </thead>\n",
              "  <tbody>\n",
              "    <tr>\n",
              "      <th>0</th>\n",
              "      <td>No</td>\n",
              "      <td>No</td>\n",
              "      <td>729.526495</td>\n",
              "      <td>44361.625074</td>\n",
              "    </tr>\n",
              "    <tr>\n",
              "      <th>1</th>\n",
              "      <td>No</td>\n",
              "      <td>Yes</td>\n",
              "      <td>817.180407</td>\n",
              "      <td>12106.134700</td>\n",
              "    </tr>\n",
              "    <tr>\n",
              "      <th>2</th>\n",
              "      <td>No</td>\n",
              "      <td>No</td>\n",
              "      <td>1073.549164</td>\n",
              "      <td>31767.138947</td>\n",
              "    </tr>\n",
              "    <tr>\n",
              "      <th>3</th>\n",
              "      <td>No</td>\n",
              "      <td>No</td>\n",
              "      <td>529.250605</td>\n",
              "      <td>35704.493935</td>\n",
              "    </tr>\n",
              "    <tr>\n",
              "      <th>4</th>\n",
              "      <td>No</td>\n",
              "      <td>No</td>\n",
              "      <td>785.655883</td>\n",
              "      <td>38463.495879</td>\n",
              "    </tr>\n",
              "  </tbody>\n",
              "</table>\n",
              "</div>"
            ],
            "text/plain": [
              "  default student      balance        income\n",
              "0      No      No   729.526495  44361.625074\n",
              "1      No     Yes   817.180407  12106.134700\n",
              "2      No      No  1073.549164  31767.138947\n",
              "3      No      No   529.250605  35704.493935\n",
              "4      No      No   785.655883  38463.495879"
            ]
          },
          "metadata": {
            "tags": []
          },
          "execution_count": 106
        }
      ]
    },
    {
      "metadata": {
        "id": "FH3QAizKIRNd",
        "colab_type": "code",
        "outputId": "e3ce2cba-1fa6-4f77-a729-1636c40ea4df",
        "colab": {
          "base_uri": "https://localhost:8080/",
          "height": 34
        }
      },
      "cell_type": "code",
      "source": [
        "# Verificando o tamanho do banco\n",
        "bd.shape"
      ],
      "execution_count": 107,
      "outputs": [
        {
          "output_type": "execute_result",
          "data": {
            "text/plain": [
              "(10000, 4)"
            ]
          },
          "metadata": {
            "tags": []
          },
          "execution_count": 107
        }
      ]
    },
    {
      "metadata": {
        "id": "es2dtkPiITtP",
        "colab_type": "code",
        "outputId": "a335312c-9e36-45ed-eb83-c0b99937d4f4",
        "colab": {
          "base_uri": "https://localhost:8080/",
          "height": 69
        }
      },
      "cell_type": "code",
      "source": [
        "# Verificando as variáveis\n",
        "# Primeiro a variável resposta\n",
        "print(bd[\"default\"].value_counts())"
      ],
      "execution_count": 108,
      "outputs": [
        {
          "output_type": "stream",
          "text": [
            "No     9667\n",
            "Yes     333\n",
            "Name: default, dtype: int64\n"
          ],
          "name": "stdout"
        }
      ]
    },
    {
      "metadata": {
        "id": "6UVdYiDNIwsq",
        "colab_type": "code",
        "outputId": "fe38589f-599a-4c97-d53d-9da53f0e02f1",
        "colab": {
          "base_uri": "https://localhost:8080/",
          "height": 69
        }
      },
      "cell_type": "code",
      "source": [
        "# Verificando Student\n",
        "bd.student.value_counts()"
      ],
      "execution_count": 109,
      "outputs": [
        {
          "output_type": "execute_result",
          "data": {
            "text/plain": [
              "No     7056\n",
              "Yes    2944\n",
              "Name: student, dtype: int64"
            ]
          },
          "metadata": {
            "tags": []
          },
          "execution_count": 109
        }
      ]
    },
    {
      "metadata": {
        "id": "tUIVB98BI-A6",
        "colab_type": "code",
        "outputId": "77ac9d6f-92ec-440c-a41e-ed050ca97d5e",
        "colab": {
          "base_uri": "https://localhost:8080/",
          "height": 300
        }
      },
      "cell_type": "code",
      "source": [
        "# Verificando as variáveis numéricas\n",
        "bd.describe()"
      ],
      "execution_count": 110,
      "outputs": [
        {
          "output_type": "execute_result",
          "data": {
            "text/html": [
              "<div>\n",
              "<style scoped>\n",
              "    .dataframe tbody tr th:only-of-type {\n",
              "        vertical-align: middle;\n",
              "    }\n",
              "\n",
              "    .dataframe tbody tr th {\n",
              "        vertical-align: top;\n",
              "    }\n",
              "\n",
              "    .dataframe thead th {\n",
              "        text-align: right;\n",
              "    }\n",
              "</style>\n",
              "<table border=\"1\" class=\"dataframe\">\n",
              "  <thead>\n",
              "    <tr style=\"text-align: right;\">\n",
              "      <th></th>\n",
              "      <th>balance</th>\n",
              "      <th>income</th>\n",
              "    </tr>\n",
              "  </thead>\n",
              "  <tbody>\n",
              "    <tr>\n",
              "      <th>count</th>\n",
              "      <td>10000.000000</td>\n",
              "      <td>10000.000000</td>\n",
              "    </tr>\n",
              "    <tr>\n",
              "      <th>mean</th>\n",
              "      <td>835.374886</td>\n",
              "      <td>33516.981876</td>\n",
              "    </tr>\n",
              "    <tr>\n",
              "      <th>std</th>\n",
              "      <td>483.714985</td>\n",
              "      <td>13336.639563</td>\n",
              "    </tr>\n",
              "    <tr>\n",
              "      <th>min</th>\n",
              "      <td>0.000000</td>\n",
              "      <td>771.967729</td>\n",
              "    </tr>\n",
              "    <tr>\n",
              "      <th>25%</th>\n",
              "      <td>481.731105</td>\n",
              "      <td>21340.462903</td>\n",
              "    </tr>\n",
              "    <tr>\n",
              "      <th>50%</th>\n",
              "      <td>823.636973</td>\n",
              "      <td>34552.644802</td>\n",
              "    </tr>\n",
              "    <tr>\n",
              "      <th>75%</th>\n",
              "      <td>1166.308386</td>\n",
              "      <td>43807.729272</td>\n",
              "    </tr>\n",
              "    <tr>\n",
              "      <th>max</th>\n",
              "      <td>2654.322576</td>\n",
              "      <td>73554.233495</td>\n",
              "    </tr>\n",
              "  </tbody>\n",
              "</table>\n",
              "</div>"
            ],
            "text/plain": [
              "            balance        income\n",
              "count  10000.000000  10000.000000\n",
              "mean     835.374886  33516.981876\n",
              "std      483.714985  13336.639563\n",
              "min        0.000000    771.967729\n",
              "25%      481.731105  21340.462903\n",
              "50%      823.636973  34552.644802\n",
              "75%     1166.308386  43807.729272\n",
              "max     2654.322576  73554.233495"
            ]
          },
          "metadata": {
            "tags": []
          },
          "execution_count": 110
        }
      ]
    },
    {
      "metadata": {
        "id": "E9fpJjowJBer",
        "colab_type": "code",
        "outputId": "a84cbf3c-0e47-42a0-c676-b80cb5e99a52",
        "colab": {
          "base_uri": "https://localhost:8080/",
          "height": 403
        }
      },
      "cell_type": "code",
      "source": [
        "# Verificando a interação entre as variáveis com gráfico\n",
        "# Plotando income X balance\n",
        "\n",
        "# Prepara a cor\n",
        "bd[\"color\"] = 'blue'\n",
        "bd.loc[bd.default == \"Yes\", \"color\"] = 'red'\n",
        "\n",
        "# Gráfico\n",
        "plt.figure(figsize=(8,6))\n",
        "plt.scatter(x=bd.balance, y=bd.income, color=bd.color, s=50, alpha=.7)\n",
        "plt.title(\"Scatter Balance vs Income\")\n",
        "plt.xlabel(\"Balance\")\n",
        "plt.ylabel(\"Income\")\n",
        "plt.show()"
      ],
      "execution_count": 111,
      "outputs": [
        {
          "output_type": "display_data",
          "data": {
            "image/png": "[encoded data removed]",
            "text/plain": [
              "<Figure size 576x432 with 1 Axes>"
            ]
          },
          "metadata": {
            "tags": []
          }
        }
      ]
    },
    {
      "metadata": {
        "id": "F2RMOAPMTQcZ",
        "colab_type": "code",
        "outputId": "0281b7ae-c8ea-4009-f2f6-22156dfbc7b2",
        "colab": {
          "base_uri": "https://localhost:8080/",
          "height": 206
        }
      },
      "cell_type": "code",
      "source": [
        "# Preprocessing\n",
        "# Preparando os dados para estimação\n",
        "## Transformando as categóricas em dummies\n",
        "bd = bd.drop(columns=[\"color\"]) # Tira a cor\n",
        "bd1 = pd.get_dummies(bd, drop_first=True)\n",
        "bd1.head()"
      ],
      "execution_count": 112,
      "outputs": [
        {
          "output_type": "execute_result",
          "data": {
            "text/html": [
              "<div>\n",
              "<style scoped>\n",
              "    .dataframe tbody tr th:only-of-type {\n",
              "        vertical-align: middle;\n",
              "    }\n",
              "\n",
              "    .dataframe tbody tr th {\n",
              "        vertical-align: top;\n",
              "    }\n",
              "\n",
              "    .dataframe thead th {\n",
              "        text-align: right;\n",
              "    }\n",
              "</style>\n",
              "<table border=\"1\" class=\"dataframe\">\n",
              "  <thead>\n",
              "    <tr style=\"text-align: right;\">\n",
              "      <th></th>\n",
              "      <th>balance</th>\n",
              "      <th>income</th>\n",
              "      <th>default_Yes</th>\n",
              "      <th>student_Yes</th>\n",
              "    </tr>\n",
              "  </thead>\n",
              "  <tbody>\n",
              "    <tr>\n",
              "      <th>0</th>\n",
              "      <td>729.526495</td>\n",
              "      <td>44361.625074</td>\n",
              "      <td>0</td>\n",
              "      <td>0</td>\n",
              "    </tr>\n",
              "    <tr>\n",
              "      <th>1</th>\n",
              "      <td>817.180407</td>\n",
              "      <td>12106.134700</td>\n",
              "      <td>0</td>\n",
              "      <td>1</td>\n",
              "    </tr>\n",
              "    <tr>\n",
              "      <th>2</th>\n",
              "      <td>1073.549164</td>\n",
              "      <td>31767.138947</td>\n",
              "      <td>0</td>\n",
              "      <td>0</td>\n",
              "    </tr>\n",
              "    <tr>\n",
              "      <th>3</th>\n",
              "      <td>529.250605</td>\n",
              "      <td>35704.493935</td>\n",
              "      <td>0</td>\n",
              "      <td>0</td>\n",
              "    </tr>\n",
              "    <tr>\n",
              "      <th>4</th>\n",
              "      <td>785.655883</td>\n",
              "      <td>38463.495879</td>\n",
              "      <td>0</td>\n",
              "      <td>0</td>\n",
              "    </tr>\n",
              "  </tbody>\n",
              "</table>\n",
              "</div>"
            ],
            "text/plain": [
              "       balance        income  default_Yes  student_Yes\n",
              "0   729.526495  44361.625074            0            0\n",
              "1   817.180407  12106.134700            0            1\n",
              "2  1073.549164  31767.138947            0            0\n",
              "3   529.250605  35704.493935            0            0\n",
              "4   785.655883  38463.495879            0            0"
            ]
          },
          "metadata": {
            "tags": []
          },
          "execution_count": 112
        }
      ]
    },
    {
      "metadata": {
        "id": "k676WKReUG1S",
        "colab_type": "text"
      },
      "cell_type": "markdown",
      "source": [
        "## Com StatsModels"
      ]
    },
    {
      "metadata": {
        "id": "G91wIza6RVjA",
        "colab_type": "code",
        "outputId": "79cf0f50-4ac5-4d5b-98ba-ae2bd6b82c7b",
        "colab": {
          "base_uri": "https://localhost:8080/",
          "height": 469
        }
      },
      "cell_type": "code",
      "source": [
        "# Estimando a regressão Logística com StatsModels\n",
        "y = bd1.default_Yes\n",
        "X = bd1[[\"balance\", \"income\", \"student_Yes\"]]\n",
        "smodel = Logit(y, X).fit()\n",
        "print(smodel.summary2())"
      ],
      "execution_count": 113,
      "outputs": [
        {
          "output_type": "stream",
          "text": [
            "Optimization terminated successfully.\n",
            "         Current function value: inf\n",
            "         Iterations 9\n",
            "                       Results: Logit\n",
            "=============================================================\n",
            "Model:              Logit            No. Iterations:   9.0000\n",
            "Dependent Variable: default_Yes      Pseudo R-squared: nan   \n",
            "Date:               2019-03-18 02:07 AIC:              inf   \n",
            "No. Observations:   10000            BIC:              inf   \n",
            "Df Model:           2                Log-Likelihood:   -inf  \n",
            "Df Residuals:       9997             LL-Null:          -inf  \n",
            "Converged:          1.0000           Scale:            1.0000\n",
            "-------------------------------------------------------------\n",
            "              Coef.  Std.Err.    z     P>|z|   [0.025  0.975]\n",
            "-------------------------------------------------------------\n",
            "balance       0.0028   0.0001  22.2911 0.0000  0.0025  0.0030\n",
            "income       -0.0002   0.0000 -33.6716 0.0000 -0.0002 -0.0002\n",
            "student_Yes  -3.7531   0.1527 -24.5803 0.0000 -4.0524 -3.4539\n",
            "=============================================================\n",
            "\n"
          ],
          "name": "stdout"
        },
        {
          "output_type": "stream",
          "text": [
            "/usr/local/lib/python3.6/dist-packages/statsmodels/discrete/discrete_model.py:1214: RuntimeWarning: overflow encountered in exp\n",
            "  return 1/(1+np.exp(-X))\n",
            "/usr/local/lib/python3.6/dist-packages/statsmodels/discrete/discrete_model.py:1264: RuntimeWarning: divide by zero encountered in log\n",
            "  return np.sum(np.log(self.cdf(q*np.dot(X,params))))\n",
            "/usr/local/lib/python3.6/dist-packages/statsmodels/discrete/discrete_model.py:2397: RuntimeWarning: invalid value encountered in double_scalars\n",
            "  return 1 - self.llf/self.llnull\n"
          ],
          "name": "stderr"
        }
      ]
    },
    {
      "metadata": {
        "id": "OIG3DB41UKQ-",
        "colab_type": "text"
      },
      "cell_type": "markdown",
      "source": [
        "## Com sklearn"
      ]
    },
    {
      "metadata": {
        "id": "LYG88XjaKq-0",
        "colab_type": "code",
        "colab": {}
      },
      "cell_type": "code",
      "source": [
        "# Dividindo os dados em dados de treino e teste\n",
        "y = bd1.default_Yes\n",
        "X = bd1.drop(columns=[\"default_Yes\"])\n",
        "colunas = X.columns\n",
        "X_train, X_test, y_train, y_test = train_test_split(X, y, test_size=.33, random_state=1)"
      ],
      "execution_count": 0,
      "outputs": []
    },
    {
      "metadata": {
        "id": "XxhUn7FNJOZ8",
        "colab_type": "code",
        "outputId": "cedefaec-9ab8-42b1-b859-462c023ea00b",
        "colab": {
          "base_uri": "https://localhost:8080/",
          "height": 86
        }
      },
      "cell_type": "code",
      "source": [
        "model = LogisticRegression(solver=\"liblinear\") # no parameter tunning for now.\n",
        "model.fit(X_train, y_train)"
      ],
      "execution_count": 115,
      "outputs": [
        {
          "output_type": "execute_result",
          "data": {
            "text/plain": [
              "LogisticRegression(C=1.0, class_weight=None, dual=False, fit_intercept=True,\n",
              "          intercept_scaling=1, max_iter=100, multi_class='warn',\n",
              "          n_jobs=None, penalty='l2', random_state=None, solver='liblinear',\n",
              "          tol=0.0001, verbose=0, warm_start=False)"
            ]
          },
          "metadata": {
            "tags": []
          },
          "execution_count": 115
        }
      ]
    },
    {
      "metadata": {
        "id": "KSdENM1MOZyW",
        "colab_type": "code",
        "outputId": "3d845c9f-462f-4afc-b359-600e42a0b6ad",
        "colab": {
          "base_uri": "https://localhost:8080/",
          "height": 69
        }
      },
      "cell_type": "code",
      "source": [
        "# Checa os coeficientes\n",
        "set(zip(colunas, model.coef_[0]))"
      ],
      "execution_count": 116,
      "outputs": [
        {
          "output_type": "execute_result",
          "data": {
            "text/plain": [
              "{('balance', 0.00039286432498206083),\n",
              " ('income', -0.0001215918467297866),\n",
              " ('student_Yes', -2.6249170433995706e-06)}"
            ]
          },
          "metadata": {
            "tags": []
          },
          "execution_count": 116
        }
      ]
    },
    {
      "metadata": {
        "id": "Wudi_kuBQff2",
        "colab_type": "code",
        "outputId": "26e7076f-3cb7-422b-dfdb-a87f72a9d32d",
        "colab": {
          "base_uri": "https://localhost:8080/",
          "height": 34
        }
      },
      "cell_type": "code",
      "source": [
        "# Verificando o ajuste do modelo pelo AUC\n",
        "yhat = model.predict(X_test)\n",
        "auc = roc_auc_score(y_test, yhat)\n",
        "print(\"AUC: \", auc)"
      ],
      "execution_count": 117,
      "outputs": [
        {
          "output_type": "stream",
          "text": [
            "AUC:  0.5\n"
          ],
          "name": "stdout"
        }
      ]
    },
    {
      "metadata": {
        "id": "yASoIVymWSwd",
        "colab_type": "text"
      },
      "cell_type": "markdown",
      "source": [
        "Agora, vamos montar um modelo com os dados do banco **Titanic**.\n",
        "\n",
        "# Titanic"
      ]
    },
    {
      "metadata": {
        "id": "MrAP4VPyWvFj",
        "colab_type": "code",
        "colab": {}
      },
      "cell_type": "code",
      "source": [
        "titanic_train = pd.read_csv(\"https://raw.githubusercontent.com/rebeccabilbro/titanic/master/data/train.csv\")\n",
        "titanic_test = pd.read_csv(\"https://raw.githubusercontent.com/rebeccabilbro/titanic/master/data/test.csv\")"
      ],
      "execution_count": 0,
      "outputs": []
    },
    {
      "metadata": {
        "id": "ynuUDsBHXwgv",
        "colab_type": "code",
        "outputId": "2fe1971f-1cf8-4cf6-dadd-f1f429c16d57",
        "colab": {
          "base_uri": "https://localhost:8080/",
          "height": 69
        }
      },
      "cell_type": "code",
      "source": [
        "titanic_train.columns"
      ],
      "execution_count": 132,
      "outputs": [
        {
          "output_type": "execute_result",
          "data": {
            "text/plain": [
              "Index(['PassengerId', 'Survived', 'Pclass', 'Name', 'Sex', 'Age', 'SibSp',\n",
              "       'Parch', 'Ticket', 'Fare', 'Cabin', 'Embarked'],\n",
              "      dtype='object')"
            ]
          },
          "metadata": {
            "tags": []
          },
          "execution_count": 132
        }
      ]
    },
    {
      "metadata": {
        "id": "SBfJ57lZX_o3",
        "colab_type": "code",
        "outputId": "31489faa-b302-4179-f0ca-6b83bf6ef53b",
        "colab": {
          "base_uri": "https://localhost:8080/",
          "height": 206
        }
      },
      "cell_type": "code",
      "source": [
        "titanic_train.head()"
      ],
      "execution_count": 133,
      "outputs": [
        {
          "output_type": "execute_result",
          "data": {
            "text/html": [
              "<div>\n",
              "<style scoped>\n",
              "    .dataframe tbody tr th:only-of-type {\n",
              "        vertical-align: middle;\n",
              "    }\n",
              "\n",
              "    .dataframe tbody tr th {\n",
              "        vertical-align: top;\n",
              "    }\n",
              "\n",
              "    .dataframe thead th {\n",
              "        text-align: right;\n",
              "    }\n",
              "</style>\n",
              "<table border=\"1\" class=\"dataframe\">\n",
              "  <thead>\n",
              "    <tr style=\"text-align: right;\">\n",
              "      <th></th>\n",
              "      <th>PassengerId</th>\n",
              "      <th>Survived</th>\n",
              "      <th>Pclass</th>\n",
              "      <th>Name</th>\n",
              "      <th>Sex</th>\n",
              "      <th>Age</th>\n",
              "      <th>SibSp</th>\n",
              "      <th>Parch</th>\n",
              "      <th>Ticket</th>\n",
              "      <th>Fare</th>\n",
              "      <th>Cabin</th>\n",
              "      <th>Embarked</th>\n",
              "    </tr>\n",
              "  </thead>\n",
              "  <tbody>\n",
              "    <tr>\n",
              "      <th>0</th>\n",
              "      <td>1</td>\n",
              "      <td>0</td>\n",
              "      <td>3</td>\n",
              "      <td>Braund, Mr. Owen Harris</td>\n",
              "      <td>male</td>\n",
              "      <td>22.0</td>\n",
              "      <td>1</td>\n",
              "      <td>0</td>\n",
              "      <td>A/5 21171</td>\n",
              "      <td>7.2500</td>\n",
              "      <td>NaN</td>\n",
              "      <td>S</td>\n",
              "    </tr>\n",
              "    <tr>\n",
              "      <th>1</th>\n",
              "      <td>2</td>\n",
              "      <td>1</td>\n",
              "      <td>1</td>\n",
              "      <td>Cumings, Mrs. John Bradley (Florence Briggs Th...</td>\n",
              "      <td>female</td>\n",
              "      <td>38.0</td>\n",
              "      <td>1</td>\n",
              "      <td>0</td>\n",
              "      <td>PC 17599</td>\n",
              "      <td>71.2833</td>\n",
              "      <td>C85</td>\n",
              "      <td>C</td>\n",
              "    </tr>\n",
              "    <tr>\n",
              "      <th>2</th>\n",
              "      <td>3</td>\n",
              "      <td>1</td>\n",
              "      <td>3</td>\n",
              "      <td>Heikkinen, Miss. Laina</td>\n",
              "      <td>female</td>\n",
              "      <td>26.0</td>\n",
              "      <td>0</td>\n",
              "      <td>0</td>\n",
              "      <td>STON/O2. 3101282</td>\n",
              "      <td>7.9250</td>\n",
              "      <td>NaN</td>\n",
              "      <td>S</td>\n",
              "    </tr>\n",
              "    <tr>\n",
              "      <th>3</th>\n",
              "      <td>4</td>\n",
              "      <td>1</td>\n",
              "      <td>1</td>\n",
              "      <td>Futrelle, Mrs. Jacques Heath (Lily May Peel)</td>\n",
              "      <td>female</td>\n",
              "      <td>35.0</td>\n",
              "      <td>1</td>\n",
              "      <td>0</td>\n",
              "      <td>113803</td>\n",
              "      <td>53.1000</td>\n",
              "      <td>C123</td>\n",
              "      <td>S</td>\n",
              "    </tr>\n",
              "    <tr>\n",
              "      <th>4</th>\n",
              "      <td>5</td>\n",
              "      <td>0</td>\n",
              "      <td>3</td>\n",
              "      <td>Allen, Mr. William Henry</td>\n",
              "      <td>male</td>\n",
              "      <td>35.0</td>\n",
              "      <td>0</td>\n",
              "      <td>0</td>\n",
              "      <td>373450</td>\n",
              "      <td>8.0500</td>\n",
              "      <td>NaN</td>\n",
              "      <td>S</td>\n",
              "    </tr>\n",
              "  </tbody>\n",
              "</table>\n",
              "</div>"
            ],
            "text/plain": [
              "   PassengerId  Survived  Pclass  \\\n",
              "0            1         0       3   \n",
              "1            2         1       1   \n",
              "2            3         1       3   \n",
              "3            4         1       1   \n",
              "4            5         0       3   \n",
              "\n",
              "                                                Name     Sex   Age  SibSp  \\\n",
              "0                            Braund, Mr. Owen Harris    male  22.0      1   \n",
              "1  Cumings, Mrs. John Bradley (Florence Briggs Th...  female  38.0      1   \n",
              "2                             Heikkinen, Miss. Laina  female  26.0      0   \n",
              "3       Futrelle, Mrs. Jacques Heath (Lily May Peel)  female  35.0      1   \n",
              "4                           Allen, Mr. William Henry    male  35.0      0   \n",
              "\n",
              "   Parch            Ticket     Fare Cabin Embarked  \n",
              "0      0         A/5 21171   7.2500   NaN        S  \n",
              "1      0          PC 17599  71.2833   C85        C  \n",
              "2      0  STON/O2. 3101282   7.9250   NaN        S  \n",
              "3      0            113803  53.1000  C123        S  \n",
              "4      0            373450   8.0500   NaN        S  "
            ]
          },
          "metadata": {
            "tags": []
          },
          "execution_count": 133
        }
      ]
    },
    {
      "metadata": {
        "id": "DHt0-aDaj5c_",
        "colab_type": "code",
        "colab": {}
      },
      "cell_type": "code",
      "source": [
        "# Transforma Pclass em categórica\n",
        "titanic_train['Pclass'] = titanic_train['Pclass'].astype('category')"
      ],
      "execution_count": 0,
      "outputs": []
    },
    {
      "metadata": {
        "id": "ZbLGT1GKX0yO",
        "colab_type": "code",
        "outputId": "59c7b9ae-715a-434e-8f49-0dbfb1415ef8",
        "colab": {
          "base_uri": "https://localhost:8080/",
          "height": 34
        }
      },
      "cell_type": "code",
      "source": [
        "# Vamos montar um modelo que explique a sobrevivência a partir da idade, da classe social e do Sexo\n",
        "# Preprocessing\n",
        "# Tira os nas\n",
        "trainset = titanic_train[[\"Survived\", \"Pclass\", \"Sex\", \"Age\"]].dropna()\n",
        "trainset = pd.get_dummies(trainset, drop_first=True)\n",
        "trainset.columns"
      ],
      "execution_count": 136,
      "outputs": [
        {
          "output_type": "execute_result",
          "data": {
            "text/plain": [
              "Index(['Survived', 'Age', 'Pclass_2', 'Pclass_3', 'Sex_male'], dtype='object')"
            ]
          },
          "metadata": {
            "tags": []
          },
          "execution_count": 136
        }
      ]
    },
    {
      "metadata": {
        "id": "ixcfAyGeZHUp",
        "colab_type": "code",
        "colab": {}
      },
      "cell_type": "code",
      "source": [
        "y = trainset.Survived\n",
        "X = trainset[[\"Pclass_2\", \"Pclass_3\", \"Sex_male\", \"Age\"]]\n",
        "X_train, X_test, y_train, y_test = train_test_split(X, y)\n",
        "colunas = X.columns"
      ],
      "execution_count": 0,
      "outputs": []
    },
    {
      "metadata": {
        "id": "JmedRHq8YwE7",
        "colab_type": "code",
        "outputId": "f30a0d72-3875-460d-c8f0-f0c9cd549ebe",
        "colab": {
          "base_uri": "https://localhost:8080/",
          "height": 86
        }
      },
      "cell_type": "code",
      "source": [
        "logmodel = LogisticRegression(solver=\"lbfgs\", fit_intercept=True)\n",
        "logmodel.fit(X_train, y_train)"
      ],
      "execution_count": 138,
      "outputs": [
        {
          "output_type": "execute_result",
          "data": {
            "text/plain": [
              "LogisticRegression(C=1.0, class_weight=None, dual=False, fit_intercept=True,\n",
              "          intercept_scaling=1, max_iter=100, multi_class='warn',\n",
              "          n_jobs=None, penalty='l2', random_state=None, solver='lbfgs',\n",
              "          tol=0.0001, verbose=0, warm_start=False)"
            ]
          },
          "metadata": {
            "tags": []
          },
          "execution_count": 138
        }
      ]
    },
    {
      "metadata": {
        "id": "ivpsz8D7aidn",
        "colab_type": "code",
        "outputId": "bdf79ea9-8ba1-4dc9-8dc0-c671118f2264",
        "colab": {
          "base_uri": "https://localhost:8080/",
          "height": 52
        }
      },
      "cell_type": "code",
      "source": [
        "print(set(zip(colunas, logmodel.coef_[0])))\n",
        "print(\"Intercept:\", logmodel.intercept_)"
      ],
      "execution_count": 139,
      "outputs": [
        {
          "output_type": "stream",
          "text": [
            "{('Sex_male', -2.2173561135761637), ('Age', -0.035078192806069476), ('Pclass_2', -1.1420945054861036), ('Pclass_3', -2.353872102098659)}\n",
            "Intercept: [3.41922367]\n"
          ],
          "name": "stdout"
        }
      ]
    },
    {
      "metadata": {
        "id": "A-E0iT1Na4pG",
        "colab_type": "code",
        "outputId": "b2fcf8bc-5b3b-4a19-90ab-6b478cb3d3a0",
        "colab": {
          "base_uri": "https://localhost:8080/",
          "height": 34
        }
      },
      "cell_type": "code",
      "source": [
        "# Testando o ajuste\n",
        "yhat = logmodel.predict(X_test)\n",
        "auc = roc_auc_score(y_test, yhat)\n",
        "print(\"AUC for Titanic ML model: \", auc)"
      ],
      "execution_count": 140,
      "outputs": [
        {
          "output_type": "stream",
          "text": [
            "AUC for Titanic ML model:  0.7949934123847168\n"
          ],
          "name": "stdout"
        }
      ]
    }
  ]
}