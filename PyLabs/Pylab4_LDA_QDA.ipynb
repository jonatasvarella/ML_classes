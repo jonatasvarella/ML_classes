{
  "nbformat": 4,
  "nbformat_minor": 0,
  "metadata": {
    "colab": {
      "name": "Pylab4_LDA_QDA.ipynb",
      "version": "0.3.2",
      "provenance": [],
      "collapsed_sections": []
    },
    "kernelspec": {
      "name": "python3",
      "display_name": "Python 3"
    }
  },
  "cells": [
    {
      "metadata": {
        "id": "0PbvmZgBQD4R",
        "colab_type": "text"
      },
      "cell_type": "markdown",
      "source": [
        "# Machine Learning\n",
        "\n",
        "## Pylab 4\n",
        "\n",
        "Linear Discriminant Analysis e Quadratic Discriminant Analysis.\n",
        "\n",
        "Prof. Neylson Crepalde\n",
        "\n",
        "Instituto Metodista Izabela Hendrix"
      ]
    },
    {
      "metadata": {
        "id": "gYv-55PjOzNk",
        "colab_type": "code",
        "colab": {}
      },
      "cell_type": "code",
      "source": [
        "import pandas as pd\n",
        "import numpy as np\n",
        "import matplotlib.pyplot as plt\n",
        "%matplotlib inline\n",
        "\n",
        "# Métricas\n",
        "from sklearn.model_selection import train_test_split\n",
        "from sklearn.metrics import roc_auc_score, auc\n",
        "\n",
        "# ML Algorithms\n",
        "from sklearn.discriminant_analysis import LinearDiscriminantAnalysis\n",
        "from sklearn.discriminant_analysis import QuadraticDiscriminantAnalysis"
      ],
      "execution_count": 0,
      "outputs": []
    },
    {
      "metadata": {
        "id": "lnIx6PxWdBr_",
        "colab_type": "text"
      },
      "cell_type": "markdown",
      "source": [
        "Vamos ler o banco de dados **Smarket** disponível no pacote ISLR para linguagem R. Segundo os autores,\n",
        "\n",
        "\"This data set consists of percentage returns for the S&P 500 stock index over 1,250 days, from the beginning of 2001 until the end of 2005. For each date, we have recorded the percentage returns for each of the five previous trading days, Lag1 through Lag5. We have also recorded Volume (the number of shares traded on the previous day, in billions), Today (the percentage return on the date in question) and Direction(whether the market was Up or Down on this date).\""
      ]
    },
    {
      "metadata": {
        "id": "WlnYCn6hR_AJ",
        "colab_type": "code",
        "colab": {
          "base_uri": "https://localhost:8080/",
          "height": 206
        },
        "outputId": "3e19465f-c20f-417a-94ed-c80588645943"
      },
      "cell_type": "code",
      "source": [
        "# Importando o banco de dados\n",
        "bd = pd.read_csv(\"https://raw.githubusercontent.com/neylsoncrepalde/ML_classes/master/Data/Smarket.csv\")\n",
        "bd.head()"
      ],
      "execution_count": 2,
      "outputs": [
        {
          "output_type": "execute_result",
          "data": {
            "text/html": [
              "<div>\n",
              "<style scoped>\n",
              "    .dataframe tbody tr th:only-of-type {\n",
              "        vertical-align: middle;\n",
              "    }\n",
              "\n",
              "    .dataframe tbody tr th {\n",
              "        vertical-align: top;\n",
              "    }\n",
              "\n",
              "    .dataframe thead th {\n",
              "        text-align: right;\n",
              "    }\n",
              "</style>\n",
              "<table border=\"1\" class=\"dataframe\">\n",
              "  <thead>\n",
              "    <tr style=\"text-align: right;\">\n",
              "      <th></th>\n",
              "      <th>Year</th>\n",
              "      <th>Lag1</th>\n",
              "      <th>Lag2</th>\n",
              "      <th>Lag3</th>\n",
              "      <th>Lag4</th>\n",
              "      <th>Lag5</th>\n",
              "      <th>Volume</th>\n",
              "      <th>Today</th>\n",
              "      <th>Direction</th>\n",
              "    </tr>\n",
              "  </thead>\n",
              "  <tbody>\n",
              "    <tr>\n",
              "      <th>0</th>\n",
              "      <td>2001</td>\n",
              "      <td>0.381</td>\n",
              "      <td>-0.192</td>\n",
              "      <td>-2.624</td>\n",
              "      <td>-1.055</td>\n",
              "      <td>5.010</td>\n",
              "      <td>1.1913</td>\n",
              "      <td>0.959</td>\n",
              "      <td>Up</td>\n",
              "    </tr>\n",
              "    <tr>\n",
              "      <th>1</th>\n",
              "      <td>2001</td>\n",
              "      <td>0.959</td>\n",
              "      <td>0.381</td>\n",
              "      <td>-0.192</td>\n",
              "      <td>-2.624</td>\n",
              "      <td>-1.055</td>\n",
              "      <td>1.2965</td>\n",
              "      <td>1.032</td>\n",
              "      <td>Up</td>\n",
              "    </tr>\n",
              "    <tr>\n",
              "      <th>2</th>\n",
              "      <td>2001</td>\n",
              "      <td>1.032</td>\n",
              "      <td>0.959</td>\n",
              "      <td>0.381</td>\n",
              "      <td>-0.192</td>\n",
              "      <td>-2.624</td>\n",
              "      <td>1.4112</td>\n",
              "      <td>-0.623</td>\n",
              "      <td>Down</td>\n",
              "    </tr>\n",
              "    <tr>\n",
              "      <th>3</th>\n",
              "      <td>2001</td>\n",
              "      <td>-0.623</td>\n",
              "      <td>1.032</td>\n",
              "      <td>0.959</td>\n",
              "      <td>0.381</td>\n",
              "      <td>-0.192</td>\n",
              "      <td>1.2760</td>\n",
              "      <td>0.614</td>\n",
              "      <td>Up</td>\n",
              "    </tr>\n",
              "    <tr>\n",
              "      <th>4</th>\n",
              "      <td>2001</td>\n",
              "      <td>0.614</td>\n",
              "      <td>-0.623</td>\n",
              "      <td>1.032</td>\n",
              "      <td>0.959</td>\n",
              "      <td>0.381</td>\n",
              "      <td>1.2057</td>\n",
              "      <td>0.213</td>\n",
              "      <td>Up</td>\n",
              "    </tr>\n",
              "  </tbody>\n",
              "</table>\n",
              "</div>"
            ],
            "text/plain": [
              "   Year   Lag1   Lag2   Lag3   Lag4   Lag5  Volume  Today Direction\n",
              "0  2001  0.381 -0.192 -2.624 -1.055  5.010  1.1913  0.959        Up\n",
              "1  2001  0.959  0.381 -0.192 -2.624 -1.055  1.2965  1.032        Up\n",
              "2  2001  1.032  0.959  0.381 -0.192 -2.624  1.4112 -0.623      Down\n",
              "3  2001 -0.623  1.032  0.959  0.381 -0.192  1.2760  0.614        Up\n",
              "4  2001  0.614 -0.623  1.032  0.959  0.381  1.2057  0.213        Up"
            ]
          },
          "metadata": {
            "tags": []
          },
          "execution_count": 2
        }
      ]
    },
    {
      "metadata": {
        "id": "ZBJ95egYcCbv",
        "colab_type": "code",
        "colab": {
          "base_uri": "https://localhost:8080/",
          "height": 300
        },
        "outputId": "5dadbd69-cda1-405a-cda2-e99e2659601a"
      },
      "cell_type": "code",
      "source": [
        "# Olhando as variáveis\n",
        "bd.describe()"
      ],
      "execution_count": 3,
      "outputs": [
        {
          "output_type": "execute_result",
          "data": {
            "text/html": [
              "<div>\n",
              "<style scoped>\n",
              "    .dataframe tbody tr th:only-of-type {\n",
              "        vertical-align: middle;\n",
              "    }\n",
              "\n",
              "    .dataframe tbody tr th {\n",
              "        vertical-align: top;\n",
              "    }\n",
              "\n",
              "    .dataframe thead th {\n",
              "        text-align: right;\n",
              "    }\n",
              "</style>\n",
              "<table border=\"1\" class=\"dataframe\">\n",
              "  <thead>\n",
              "    <tr style=\"text-align: right;\">\n",
              "      <th></th>\n",
              "      <th>Year</th>\n",
              "      <th>Lag1</th>\n",
              "      <th>Lag2</th>\n",
              "      <th>Lag3</th>\n",
              "      <th>Lag4</th>\n",
              "      <th>Lag5</th>\n",
              "      <th>Volume</th>\n",
              "      <th>Today</th>\n",
              "    </tr>\n",
              "  </thead>\n",
              "  <tbody>\n",
              "    <tr>\n",
              "      <th>count</th>\n",
              "      <td>1250.000000</td>\n",
              "      <td>1250.000000</td>\n",
              "      <td>1250.000000</td>\n",
              "      <td>1250.000000</td>\n",
              "      <td>1250.000000</td>\n",
              "      <td>1250.00000</td>\n",
              "      <td>1250.000000</td>\n",
              "      <td>1250.000000</td>\n",
              "    </tr>\n",
              "    <tr>\n",
              "      <th>mean</th>\n",
              "      <td>2003.016000</td>\n",
              "      <td>0.003834</td>\n",
              "      <td>0.003919</td>\n",
              "      <td>0.001716</td>\n",
              "      <td>0.001636</td>\n",
              "      <td>0.00561</td>\n",
              "      <td>1.478305</td>\n",
              "      <td>0.003138</td>\n",
              "    </tr>\n",
              "    <tr>\n",
              "      <th>std</th>\n",
              "      <td>1.409018</td>\n",
              "      <td>1.136299</td>\n",
              "      <td>1.136280</td>\n",
              "      <td>1.138703</td>\n",
              "      <td>1.138774</td>\n",
              "      <td>1.14755</td>\n",
              "      <td>0.360357</td>\n",
              "      <td>1.136334</td>\n",
              "    </tr>\n",
              "    <tr>\n",
              "      <th>min</th>\n",
              "      <td>2001.000000</td>\n",
              "      <td>-4.922000</td>\n",
              "      <td>-4.922000</td>\n",
              "      <td>-4.922000</td>\n",
              "      <td>-4.922000</td>\n",
              "      <td>-4.92200</td>\n",
              "      <td>0.356070</td>\n",
              "      <td>-4.922000</td>\n",
              "    </tr>\n",
              "    <tr>\n",
              "      <th>25%</th>\n",
              "      <td>2002.000000</td>\n",
              "      <td>-0.639500</td>\n",
              "      <td>-0.639500</td>\n",
              "      <td>-0.640000</td>\n",
              "      <td>-0.640000</td>\n",
              "      <td>-0.64000</td>\n",
              "      <td>1.257400</td>\n",
              "      <td>-0.639500</td>\n",
              "    </tr>\n",
              "    <tr>\n",
              "      <th>50%</th>\n",
              "      <td>2003.000000</td>\n",
              "      <td>0.039000</td>\n",
              "      <td>0.039000</td>\n",
              "      <td>0.038500</td>\n",
              "      <td>0.038500</td>\n",
              "      <td>0.03850</td>\n",
              "      <td>1.422950</td>\n",
              "      <td>0.038500</td>\n",
              "    </tr>\n",
              "    <tr>\n",
              "      <th>75%</th>\n",
              "      <td>2004.000000</td>\n",
              "      <td>0.596750</td>\n",
              "      <td>0.596750</td>\n",
              "      <td>0.596750</td>\n",
              "      <td>0.596750</td>\n",
              "      <td>0.59700</td>\n",
              "      <td>1.641675</td>\n",
              "      <td>0.596750</td>\n",
              "    </tr>\n",
              "    <tr>\n",
              "      <th>max</th>\n",
              "      <td>2005.000000</td>\n",
              "      <td>5.733000</td>\n",
              "      <td>5.733000</td>\n",
              "      <td>5.733000</td>\n",
              "      <td>5.733000</td>\n",
              "      <td>5.73300</td>\n",
              "      <td>3.152470</td>\n",
              "      <td>5.733000</td>\n",
              "    </tr>\n",
              "  </tbody>\n",
              "</table>\n",
              "</div>"
            ],
            "text/plain": [
              "              Year         Lag1         Lag2         Lag3         Lag4  \\\n",
              "count  1250.000000  1250.000000  1250.000000  1250.000000  1250.000000   \n",
              "mean   2003.016000     0.003834     0.003919     0.001716     0.001636   \n",
              "std       1.409018     1.136299     1.136280     1.138703     1.138774   \n",
              "min    2001.000000    -4.922000    -4.922000    -4.922000    -4.922000   \n",
              "25%    2002.000000    -0.639500    -0.639500    -0.640000    -0.640000   \n",
              "50%    2003.000000     0.039000     0.039000     0.038500     0.038500   \n",
              "75%    2004.000000     0.596750     0.596750     0.596750     0.596750   \n",
              "max    2005.000000     5.733000     5.733000     5.733000     5.733000   \n",
              "\n",
              "             Lag5       Volume        Today  \n",
              "count  1250.00000  1250.000000  1250.000000  \n",
              "mean      0.00561     1.478305     0.003138  \n",
              "std       1.14755     0.360357     1.136334  \n",
              "min      -4.92200     0.356070    -4.922000  \n",
              "25%      -0.64000     1.257400    -0.639500  \n",
              "50%       0.03850     1.422950     0.038500  \n",
              "75%       0.59700     1.641675     0.596750  \n",
              "max       5.73300     3.152470     5.733000  "
            ]
          },
          "metadata": {
            "tags": []
          },
          "execution_count": 3
        }
      ]
    },
    {
      "metadata": {
        "id": "BG0kz3vEd7vz",
        "colab_type": "code",
        "colab": {
          "base_uri": "https://localhost:8080/",
          "height": 69
        },
        "outputId": "a91bcaa3-f393-4ee3-e397-e386b9cb4805"
      },
      "cell_type": "code",
      "source": [
        "bd.Direction.value_counts()"
      ],
      "execution_count": 5,
      "outputs": [
        {
          "output_type": "execute_result",
          "data": {
            "text/plain": [
              "Up      648\n",
              "Down    602\n",
              "Name: Direction, dtype: int64"
            ]
          },
          "metadata": {
            "tags": []
          },
          "execution_count": 5
        }
      ]
    },
    {
      "metadata": {
        "id": "gT96VWvqeCBb",
        "colab_type": "code",
        "colab": {
          "base_uri": "https://localhost:8080/",
          "height": 300
        },
        "outputId": "4ea52940-114b-42ae-c71d-d6ce87ef2815"
      },
      "cell_type": "code",
      "source": [
        "# Matriz de correlação\n",
        "bd.drop(columns=\"Direction\").corr()"
      ],
      "execution_count": 7,
      "outputs": [
        {
          "output_type": "execute_result",
          "data": {
            "text/html": [
              "<div>\n",
              "<style scoped>\n",
              "    .dataframe tbody tr th:only-of-type {\n",
              "        vertical-align: middle;\n",
              "    }\n",
              "\n",
              "    .dataframe tbody tr th {\n",
              "        vertical-align: top;\n",
              "    }\n",
              "\n",
              "    .dataframe thead th {\n",
              "        text-align: right;\n",
              "    }\n",
              "</style>\n",
              "<table border=\"1\" class=\"dataframe\">\n",
              "  <thead>\n",
              "    <tr style=\"text-align: right;\">\n",
              "      <th></th>\n",
              "      <th>Year</th>\n",
              "      <th>Lag1</th>\n",
              "      <th>Lag2</th>\n",
              "      <th>Lag3</th>\n",
              "      <th>Lag4</th>\n",
              "      <th>Lag5</th>\n",
              "      <th>Volume</th>\n",
              "      <th>Today</th>\n",
              "    </tr>\n",
              "  </thead>\n",
              "  <tbody>\n",
              "    <tr>\n",
              "      <th>Year</th>\n",
              "      <td>1.000000</td>\n",
              "      <td>0.029700</td>\n",
              "      <td>0.030596</td>\n",
              "      <td>0.033195</td>\n",
              "      <td>0.035689</td>\n",
              "      <td>0.029788</td>\n",
              "      <td>0.539006</td>\n",
              "      <td>0.030095</td>\n",
              "    </tr>\n",
              "    <tr>\n",
              "      <th>Lag1</th>\n",
              "      <td>0.029700</td>\n",
              "      <td>1.000000</td>\n",
              "      <td>-0.026294</td>\n",
              "      <td>-0.010803</td>\n",
              "      <td>-0.002986</td>\n",
              "      <td>-0.005675</td>\n",
              "      <td>0.040910</td>\n",
              "      <td>-0.026155</td>\n",
              "    </tr>\n",
              "    <tr>\n",
              "      <th>Lag2</th>\n",
              "      <td>0.030596</td>\n",
              "      <td>-0.026294</td>\n",
              "      <td>1.000000</td>\n",
              "      <td>-0.025897</td>\n",
              "      <td>-0.010854</td>\n",
              "      <td>-0.003558</td>\n",
              "      <td>-0.043383</td>\n",
              "      <td>-0.010250</td>\n",
              "    </tr>\n",
              "    <tr>\n",
              "      <th>Lag3</th>\n",
              "      <td>0.033195</td>\n",
              "      <td>-0.010803</td>\n",
              "      <td>-0.025897</td>\n",
              "      <td>1.000000</td>\n",
              "      <td>-0.024051</td>\n",
              "      <td>-0.018808</td>\n",
              "      <td>-0.041824</td>\n",
              "      <td>-0.002448</td>\n",
              "    </tr>\n",
              "    <tr>\n",
              "      <th>Lag4</th>\n",
              "      <td>0.035689</td>\n",
              "      <td>-0.002986</td>\n",
              "      <td>-0.010854</td>\n",
              "      <td>-0.024051</td>\n",
              "      <td>1.000000</td>\n",
              "      <td>-0.027084</td>\n",
              "      <td>-0.048414</td>\n",
              "      <td>-0.006900</td>\n",
              "    </tr>\n",
              "    <tr>\n",
              "      <th>Lag5</th>\n",
              "      <td>0.029788</td>\n",
              "      <td>-0.005675</td>\n",
              "      <td>-0.003558</td>\n",
              "      <td>-0.018808</td>\n",
              "      <td>-0.027084</td>\n",
              "      <td>1.000000</td>\n",
              "      <td>-0.022002</td>\n",
              "      <td>-0.034860</td>\n",
              "    </tr>\n",
              "    <tr>\n",
              "      <th>Volume</th>\n",
              "      <td>0.539006</td>\n",
              "      <td>0.040910</td>\n",
              "      <td>-0.043383</td>\n",
              "      <td>-0.041824</td>\n",
              "      <td>-0.048414</td>\n",
              "      <td>-0.022002</td>\n",
              "      <td>1.000000</td>\n",
              "      <td>0.014592</td>\n",
              "    </tr>\n",
              "    <tr>\n",
              "      <th>Today</th>\n",
              "      <td>0.030095</td>\n",
              "      <td>-0.026155</td>\n",
              "      <td>-0.010250</td>\n",
              "      <td>-0.002448</td>\n",
              "      <td>-0.006900</td>\n",
              "      <td>-0.034860</td>\n",
              "      <td>0.014592</td>\n",
              "      <td>1.000000</td>\n",
              "    </tr>\n",
              "  </tbody>\n",
              "</table>\n",
              "</div>"
            ],
            "text/plain": [
              "            Year      Lag1      Lag2      Lag3      Lag4      Lag5    Volume  \\\n",
              "Year    1.000000  0.029700  0.030596  0.033195  0.035689  0.029788  0.539006   \n",
              "Lag1    0.029700  1.000000 -0.026294 -0.010803 -0.002986 -0.005675  0.040910   \n",
              "Lag2    0.030596 -0.026294  1.000000 -0.025897 -0.010854 -0.003558 -0.043383   \n",
              "Lag3    0.033195 -0.010803 -0.025897  1.000000 -0.024051 -0.018808 -0.041824   \n",
              "Lag4    0.035689 -0.002986 -0.010854 -0.024051  1.000000 -0.027084 -0.048414   \n",
              "Lag5    0.029788 -0.005675 -0.003558 -0.018808 -0.027084  1.000000 -0.022002   \n",
              "Volume  0.539006  0.040910 -0.043383 -0.041824 -0.048414 -0.022002  1.000000   \n",
              "Today   0.030095 -0.026155 -0.010250 -0.002448 -0.006900 -0.034860  0.014592   \n",
              "\n",
              "           Today  \n",
              "Year    0.030095  \n",
              "Lag1   -0.026155  \n",
              "Lag2   -0.010250  \n",
              "Lag3   -0.002448  \n",
              "Lag4   -0.006900  \n",
              "Lag5   -0.034860  \n",
              "Volume  0.014592  \n",
              "Today   1.000000  "
            ]
          },
          "metadata": {
            "tags": []
          },
          "execution_count": 7
        }
      ]
    },
    {
      "metadata": {
        "id": "bF0Ddu8Reldi",
        "colab_type": "text"
      },
      "cell_type": "markdown",
      "source": [
        "No geral, as correlações são baixas. A única correlação mais expressiva é entre Year e Volume (0.539)\n",
        "\n",
        "Vamos usar a análise discriminante para prever a direção no mercado dados Lag1 e Lag2"
      ]
    },
    {
      "metadata": {
        "id": "H6wPhbKcedqT",
        "colab_type": "code",
        "colab": {
          "base_uri": "https://localhost:8080/",
          "height": 69
        },
        "outputId": "9a8a024c-4770-419c-82c1-386c9314d3f1"
      },
      "cell_type": "code",
      "source": [
        "bd1 = pd.get_dummies(bd, drop_first=True)\n",
        "print(bd1.columns)"
      ],
      "execution_count": 8,
      "outputs": [
        {
          "output_type": "stream",
          "text": [
            "Index(['Year', 'Lag1', 'Lag2', 'Lag3', 'Lag4', 'Lag5', 'Volume', 'Today',\n",
            "       'Direction_Up'],\n",
            "      dtype='object')\n"
          ],
          "name": "stdout"
        }
      ]
    },
    {
      "metadata": {
        "id": "jthwsGmveW0m",
        "colab_type": "code",
        "colab": {}
      },
      "cell_type": "code",
      "source": [
        "X = bd1[[\"Lag1\", \"Lag2\"]]\n",
        "y = bd1.Direction_Up\n",
        "X_train, X_test, y_train, y_test = train_test_split(X, y, test_size=.3, random_state=1)"
      ],
      "execution_count": 0,
      "outputs": []
    },
    {
      "metadata": {
        "id": "qJpRcpIAf34D",
        "colab_type": "text"
      },
      "cell_type": "markdown",
      "source": [
        "Vamos usar o algoritmo de LDA do SKLEARN. Ele possui 3 algortimos. É curioso notar que o algortimo default `svd` **não leva em conta a matriz de covariância** e, portanto é mais adequada a dados com mais features. O algoritmo `eigen` leva em conta a matriz de covariância e está mais alinhado com o método descrito no livro-texto. Experimentemos os dois métodos."
      ]
    },
    {
      "metadata": {
        "id": "dWuat1PEfwX3",
        "colab_type": "code",
        "colab": {}
      },
      "cell_type": "code",
      "source": [
        "lda1 = LinearDiscriminantAnalysis(solver=\"svd\")"
      ],
      "execution_count": 0,
      "outputs": []
    },
    {
      "metadata": {
        "id": "JAk07opagQGp",
        "colab_type": "code",
        "colab": {
          "base_uri": "https://localhost:8080/",
          "height": 52
        },
        "outputId": "4edc7da7-52d8-4109-f60e-a165c1679377"
      },
      "cell_type": "code",
      "source": [
        "lda1.fit(X_train, y_train)"
      ],
      "execution_count": 17,
      "outputs": [
        {
          "output_type": "execute_result",
          "data": {
            "text/plain": [
              "LinearDiscriminantAnalysis(n_components=None, priors=None, shrinkage=None,\n",
              "              solver='svd', store_covariance=False, tol=0.0001)"
            ]
          },
          "metadata": {
            "tags": []
          },
          "execution_count": 17
        }
      ]
    },
    {
      "metadata": {
        "id": "KSgqHIlYgYtx",
        "colab_type": "code",
        "colab": {
          "base_uri": "https://localhost:8080/",
          "height": 34
        },
        "outputId": "9a027eb3-4247-42e2-db76-9479aaaab6b4"
      },
      "cell_type": "code",
      "source": [
        "# Checking the results\n",
        "yhat = lda1.predict(X_test)\n",
        "auc = roc_auc_score(y_test, yhat)\n",
        "print(\"AUC: \", auc)"
      ],
      "execution_count": 19,
      "outputs": [
        {
          "output_type": "stream",
          "text": [
            "AUC:  0.5080356126976903\n"
          ],
          "name": "stdout"
        }
      ]
    },
    {
      "metadata": {
        "id": "sLFtnL5ZhOS7",
        "colab_type": "text"
      },
      "cell_type": "markdown",
      "source": [
        "Horrível!!!! Vamos tentar adicionar mais variáveis nesse modelo."
      ]
    },
    {
      "metadata": {
        "id": "k3q6xVFChMx5",
        "colab_type": "code",
        "colab": {}
      },
      "cell_type": "code",
      "source": [
        "X = bd1[[\"Lag1\", \"Lag2\", \"Lag3\", \"Lag4\", \"Lag5\", \"Year\", \"Volume\"]]\n",
        "y = bd1.Direction_Up\n",
        "X_train, X_test, y_train, y_test = train_test_split(X, y, test_size=.3, random_state=1)"
      ],
      "execution_count": 0,
      "outputs": []
    },
    {
      "metadata": {
        "id": "HOjRTgv3hZrU",
        "colab_type": "code",
        "colab": {
          "base_uri": "https://localhost:8080/",
          "height": 52
        },
        "outputId": "0dc808c4-46e6-4b7c-9e36-ff4adb0d143c"
      },
      "cell_type": "code",
      "source": [
        "lda2 = LinearDiscriminantAnalysis(solver=\"svd\")\n",
        "lda2.fit(X_train, y_train)"
      ],
      "execution_count": 21,
      "outputs": [
        {
          "output_type": "execute_result",
          "data": {
            "text/plain": [
              "LinearDiscriminantAnalysis(n_components=None, priors=None, shrinkage=None,\n",
              "              solver='svd', store_covariance=False, tol=0.0001)"
            ]
          },
          "metadata": {
            "tags": []
          },
          "execution_count": 21
        }
      ]
    },
    {
      "metadata": {
        "id": "-wgStwQRhLLE",
        "colab_type": "code",
        "colab": {
          "base_uri": "https://localhost:8080/",
          "height": 34
        },
        "outputId": "3087da5a-69bd-456b-c6c8-70a64546098e"
      },
      "cell_type": "code",
      "source": [
        "yhat = lda2.predict(X_test)\n",
        "auc = roc_auc_score(y_test, yhat)\n",
        "print(\"AUC: \", auc)"
      ],
      "execution_count": 22,
      "outputs": [
        {
          "output_type": "stream",
          "text": [
            "AUC:  0.5193850267379679\n"
          ],
          "name": "stdout"
        }
      ]
    },
    {
      "metadata": {
        "id": "KNQJetQIkM4S",
        "colab_type": "text"
      },
      "cell_type": "markdown",
      "source": [
        "Não foi muito melhor. Vamos tentar com outro algoritmo."
      ]
    },
    {
      "metadata": {
        "id": "MiFPiNS_kKM2",
        "colab_type": "code",
        "colab": {
          "base_uri": "https://localhost:8080/",
          "height": 52
        },
        "outputId": "611b1e79-c6bf-4c81-d530-fe1633c32e17"
      },
      "cell_type": "code",
      "source": [
        "lda3 = LinearDiscriminantAnalysis(solver=\"eigen\")\n",
        "lda3.fit(X_train, y_train)"
      ],
      "execution_count": 23,
      "outputs": [
        {
          "output_type": "execute_result",
          "data": {
            "text/plain": [
              "LinearDiscriminantAnalysis(n_components=None, priors=None, shrinkage=None,\n",
              "              solver='eigen', store_covariance=False, tol=0.0001)"
            ]
          },
          "metadata": {
            "tags": []
          },
          "execution_count": 23
        }
      ]
    },
    {
      "metadata": {
        "id": "q1cU70JGkTo_",
        "colab_type": "code",
        "colab": {
          "base_uri": "https://localhost:8080/",
          "height": 34
        },
        "outputId": "e93abc56-f148-4913-c7dc-a9375c29abe1"
      },
      "cell_type": "code",
      "source": [
        "yhat = lda3.predict(X_test)\n",
        "auc = roc_auc_score(y_test, yhat)\n",
        "print(\"AUC: \", auc)"
      ],
      "execution_count": 24,
      "outputs": [
        {
          "output_type": "stream",
          "text": [
            "AUC:  0.5354562521333486\n"
          ],
          "name": "stdout"
        }
      ]
    },
    {
      "metadata": {
        "id": "n1CcdcMYkZBo",
        "colab_type": "text"
      },
      "cell_type": "markdown",
      "source": [
        "Melhorou um pouco. Mesmo asim, esse AUC está abaixo do aceitável. Vamos tentar com QDA"
      ]
    },
    {
      "metadata": {
        "id": "LsQ5e2lvkXNX",
        "colab_type": "code",
        "colab": {
          "base_uri": "https://localhost:8080/",
          "height": 52
        },
        "outputId": "84cb8674-7350-4bb4-f9e5-d40360910767"
      },
      "cell_type": "code",
      "source": [
        "qda = QuadraticDiscriminantAnalysis()\n",
        "qda.fit(X_train, y_train)"
      ],
      "execution_count": 25,
      "outputs": [
        {
          "output_type": "execute_result",
          "data": {
            "text/plain": [
              "QuadraticDiscriminantAnalysis(priors=None, reg_param=0.0,\n",
              "               store_covariance=False, store_covariances=None, tol=0.0001)"
            ]
          },
          "metadata": {
            "tags": []
          },
          "execution_count": 25
        }
      ]
    },
    {
      "metadata": {
        "id": "NFkBVbdVlOUD",
        "colab_type": "code",
        "colab": {
          "base_uri": "https://localhost:8080/",
          "height": 34
        },
        "outputId": "db77433c-6d76-4003-bd33-4cee6954c103"
      },
      "cell_type": "code",
      "source": [
        "yhat = qda.predict(X_test)\n",
        "auc = roc_auc_score(y_test, yhat)\n",
        "print(\"AUC: \", auc)"
      ],
      "execution_count": 26,
      "outputs": [
        {
          "output_type": "stream",
          "text": [
            "AUC:  0.5063431562179997\n"
          ],
          "name": "stdout"
        }
      ]
    },
    {
      "metadata": {
        "id": "SgmWe8R7lZxr",
        "colab_type": "text"
      },
      "cell_type": "markdown",
      "source": [
        "Vamos tentar aplicar esse método para os dados do banco "
      ]
    },
    {
      "metadata": {
        "id": "va9oPBCrlSNZ",
        "colab_type": "code",
        "colab": {
          "base_uri": "https://localhost:8080/",
          "height": 206
        },
        "outputId": "0a78907d-2282-43d8-89d6-8022c6cf6174"
      },
      "cell_type": "code",
      "source": [
        "bd = pd.read_csv(\"https://raw.githubusercontent.com/neylsoncrepalde/ML_classes/master/Data/Default.csv\")\n",
        "bd.head()"
      ],
      "execution_count": 27,
      "outputs": [
        {
          "output_type": "execute_result",
          "data": {
            "text/html": [
              "<div>\n",
              "<style scoped>\n",
              "    .dataframe tbody tr th:only-of-type {\n",
              "        vertical-align: middle;\n",
              "    }\n",
              "\n",
              "    .dataframe tbody tr th {\n",
              "        vertical-align: top;\n",
              "    }\n",
              "\n",
              "    .dataframe thead th {\n",
              "        text-align: right;\n",
              "    }\n",
              "</style>\n",
              "<table border=\"1\" class=\"dataframe\">\n",
              "  <thead>\n",
              "    <tr style=\"text-align: right;\">\n",
              "      <th></th>\n",
              "      <th>default</th>\n",
              "      <th>student</th>\n",
              "      <th>balance</th>\n",
              "      <th>income</th>\n",
              "    </tr>\n",
              "  </thead>\n",
              "  <tbody>\n",
              "    <tr>\n",
              "      <th>0</th>\n",
              "      <td>No</td>\n",
              "      <td>No</td>\n",
              "      <td>729.526495</td>\n",
              "      <td>44361.625074</td>\n",
              "    </tr>\n",
              "    <tr>\n",
              "      <th>1</th>\n",
              "      <td>No</td>\n",
              "      <td>Yes</td>\n",
              "      <td>817.180407</td>\n",
              "      <td>12106.134700</td>\n",
              "    </tr>\n",
              "    <tr>\n",
              "      <th>2</th>\n",
              "      <td>No</td>\n",
              "      <td>No</td>\n",
              "      <td>1073.549164</td>\n",
              "      <td>31767.138947</td>\n",
              "    </tr>\n",
              "    <tr>\n",
              "      <th>3</th>\n",
              "      <td>No</td>\n",
              "      <td>No</td>\n",
              "      <td>529.250605</td>\n",
              "      <td>35704.493935</td>\n",
              "    </tr>\n",
              "    <tr>\n",
              "      <th>4</th>\n",
              "      <td>No</td>\n",
              "      <td>No</td>\n",
              "      <td>785.655883</td>\n",
              "      <td>38463.495879</td>\n",
              "    </tr>\n",
              "  </tbody>\n",
              "</table>\n",
              "</div>"
            ],
            "text/plain": [
              "  default student      balance        income\n",
              "0      No      No   729.526495  44361.625074\n",
              "1      No     Yes   817.180407  12106.134700\n",
              "2      No      No  1073.549164  31767.138947\n",
              "3      No      No   529.250605  35704.493935\n",
              "4      No      No   785.655883  38463.495879"
            ]
          },
          "metadata": {
            "tags": []
          },
          "execution_count": 27
        }
      ]
    },
    {
      "metadata": {
        "id": "70nAW2eulqUk",
        "colab_type": "code",
        "colab": {}
      },
      "cell_type": "code",
      "source": [
        "bd1 = pd.get_dummies(bd, drop_first=True)\n",
        "X = bd1[[\"student_Yes\", \"balance\", \"income\"]]\n",
        "y = bd1.default_Yes\n",
        "X_train, X_test, y_train, y_test = train_test_split(X, y, test_size=.3, random_state=1)"
      ],
      "execution_count": 0,
      "outputs": []
    },
    {
      "metadata": {
        "id": "9Yj9eQBvmTak",
        "colab_type": "code",
        "colab": {
          "base_uri": "https://localhost:8080/",
          "height": 52
        },
        "outputId": "0082a267-cb09-4821-aa7d-3c0b5155efa8"
      },
      "cell_type": "code",
      "source": [
        "lda1 = LinearDiscriminantAnalysis(solver=\"eigen\")\n",
        "lda1.fit(X_train, y_train)"
      ],
      "execution_count": 29,
      "outputs": [
        {
          "output_type": "execute_result",
          "data": {
            "text/plain": [
              "LinearDiscriminantAnalysis(n_components=None, priors=None, shrinkage=None,\n",
              "              solver='eigen', store_covariance=False, tol=0.0001)"
            ]
          },
          "metadata": {
            "tags": []
          },
          "execution_count": 29
        }
      ]
    },
    {
      "metadata": {
        "id": "8Rgkd_XomhsS",
        "colab_type": "code",
        "colab": {
          "base_uri": "https://localhost:8080/",
          "height": 34
        },
        "outputId": "0d09755c-f6f4-4995-963b-c06d1dcbbfb2"
      },
      "cell_type": "code",
      "source": [
        "yhat = lda1.predict(X_test)\n",
        "auc = roc_auc_score(y_test, yhat)\n",
        "print(\"AUC: \", auc)"
      ],
      "execution_count": 31,
      "outputs": [
        {
          "output_type": "stream",
          "text": [
            "AUC:  0.8646262640762469\n"
          ],
          "name": "stdout"
        }
      ]
    },
    {
      "metadata": {
        "id": "DXgf7ozwmqul",
        "colab_type": "text"
      },
      "cell_type": "markdown",
      "source": [
        "Wow!!! Nesses dados a LDA teve um resultado muito mais interessante! Vamos ver se QDA pode superar isso:"
      ]
    },
    {
      "metadata": {
        "id": "gYhSTn2hmn8n",
        "colab_type": "code",
        "colab": {
          "base_uri": "https://localhost:8080/",
          "height": 52
        },
        "outputId": "daedea60-b4f8-4577-f585-0fdf24f5b801"
      },
      "cell_type": "code",
      "source": [
        "qda = QuadraticDiscriminantAnalysis()\n",
        "qda.fit(X_train, y_train)"
      ],
      "execution_count": 32,
      "outputs": [
        {
          "output_type": "execute_result",
          "data": {
            "text/plain": [
              "QuadraticDiscriminantAnalysis(priors=None, reg_param=0.0,\n",
              "               store_covariance=False, store_covariances=None, tol=0.0001)"
            ]
          },
          "metadata": {
            "tags": []
          },
          "execution_count": 32
        }
      ]
    },
    {
      "metadata": {
        "id": "P9KfXu07m0u3",
        "colab_type": "code",
        "colab": {
          "base_uri": "https://localhost:8080/",
          "height": 34
        },
        "outputId": "f696cbd9-bd35-4606-801e-3a1b8749d4dc"
      },
      "cell_type": "code",
      "source": [
        "yhat = qda.predict(X_test)\n",
        "auc = roc_auc_score(y_test, yhat)\n",
        "print(\"AUC: \", auc)"
      ],
      "execution_count": 33,
      "outputs": [
        {
          "output_type": "stream",
          "text": [
            "AUC:  0.6574499752567817\n"
          ],
          "name": "stdout"
        }
      ]
    },
    {
      "metadata": {
        "id": "IgTnJeClm3n8",
        "colab_type": "text"
      },
      "cell_type": "markdown",
      "source": [
        "Não foi tão bom. Imaginamos que a linha de decisão linear foi melhor do que a quadrática dado que o balance faz uma separação muito estanque entre as categorias de Default."
      ]
    }
  ]
}